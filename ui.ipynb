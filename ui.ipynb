{
 "cells": [
  {
   "cell_type": "code",
   "execution_count": 1,
   "metadata": {
    "collapsed": true,
    "jupyter": {
     "outputs_hidden": true
    }
   },
   "outputs": [
    {
     "name": "stdout",
     "output_type": "stream",
     "text": [
      "Collecting import_ipynb\n",
      "  Downloading import-ipynb-0.1.3.tar.gz (4.0 kB)\n",
      "Using legacy setup.py install for import-ipynb, since package 'wheel' is not installed.\n",
      "Installing collected packages: import-ipynb\n",
      "    Running setup.py install for import-ipynb: started\n",
      "    Running setup.py install for import-ipynb: finished with status 'done'\n",
      "Successfully installed import-ipynb-0.1.3\n"
     ]
    }
   ],
   "source": [
    "!pip install import_ipynb"
   ]
  },
  {
   "cell_type": "code",
   "execution_count": 37,
   "metadata": {},
   "outputs": [],
   "source": [
    "import import_ipynb\n",
    "import pao_de_acucar as pda"
   ]
  },
  {
   "cell_type": "code",
   "execution_count": 31,
   "metadata": {},
   "outputs": [],
   "source": [
    "products = [\n",
    "    \"Atum solido Gomes da Costa natural\",\n",
    "    \"Torrada Bauducco\",\n",
    "    \"Suco Do Bem Goiaba\",\n",
    "    \"Milho verde em conserva\",\n",
    "    \"Pao de forma integral\"\n",
    "]"
   ]
  },
  {
   "cell_type": "code",
   "execution_count": 36,
   "metadata": {},
   "outputs": [
    {
     "name": "stdout",
     "output_type": "stream",
     "text": [
      "Torrada Canapes BAUDUCCO Caixa 110g não disponível\n",
      "Milho Verde PREDILECTA Lata 200g não disponível\n",
      "Milho Verde QUERO Lata 200g não disponível\n",
      "Pão de Forma Integral PULLMAN 550g não disponível\n",
      "Pão de Forma Integral 12 Grãos Zero PULLMAN 350g não disponível\n",
      "Pão de Forma Integral PANCO 500g não disponível\n",
      "Pão de Forma Integral Zero PANCO 380g não disponível\n",
      "Pão de Forma Integral com Castanha e Quinoa QUALITÁ 400g não disponível\n",
      "Pão de Forma 100% Integral TAEQ 400g não disponível\n"
     ]
    }
   ],
   "source": [
    "busca = pao.fetchItems(products).reset_index()"
   ]
  },
  {
   "cell_type": "code",
   "execution_count": null,
   "metadata": {},
   "outputs": [],
   "source": []
  },
  {
   "cell_type": "code",
   "execution_count": null,
   "metadata": {},
   "outputs": [],
   "source": []
  },
  {
   "cell_type": "code",
   "execution_count": null,
   "metadata": {},
   "outputs": [],
   "source": []
  }
 ],
 "metadata": {
  "kernelspec": {
   "display_name": "Python 3",
   "language": "python",
   "name": "python3"
  },
  "language_info": {
   "codemirror_mode": {
    "name": "ipython",
    "version": 3
   },
   "file_extension": ".py",
   "mimetype": "text/x-python",
   "name": "python",
   "nbconvert_exporter": "python",
   "pygments_lexer": "ipython3",
   "version": "3.8.3"
  }
 },
 "nbformat": 4,
 "nbformat_minor": 4
}
