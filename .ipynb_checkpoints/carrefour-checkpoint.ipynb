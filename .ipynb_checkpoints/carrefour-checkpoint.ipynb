{
 "cells": [
  {
   "cell_type": "code",
   "execution_count": 19,
   "metadata": {},
   "outputs": [],
   "source": [
    "import pandas as pd\n",
    "pd.options.mode.chained_assignment = None\n",
    "import requests\n",
    "import re\n",
    "from bs4 import BeautifulSoup\n",
    "import json"
   ]
  },
  {
   "cell_type": "code",
   "execution_count": 2,
   "metadata": {},
   "outputs": [],
   "source": [
    "def findQuantity(text):\n",
    "    unit=\"(g|kg|l|ml| litro)\"\n",
    "    x = re.search(\"[0-9,]+\"+unit, text, re.IGNORECASE)\n",
    "    if x == None:\n",
    "        return \"\";\n",
    "    return x.group()"
   ]
  },
  {
   "cell_type": "code",
   "execution_count": 1,
   "metadata": {},
   "outputs": [],
   "source": [
    "def findRelPrice(price, quantity):\n",
    "    if quantity==\"\":\n",
    "        return \"\";\n",
    "    qt = int(''.join(filter(str.isdigit, quantity)))\n",
    "    unit = ''.join(filter(str.isalpha, quantity))\n",
    "    unit = unit.lower()\n",
    "    \n",
    "    relPrice = float(price)/qt\n",
    "\n",
    "    if unit == 'g' or unit == 'ml':\n",
    "        relPrice*=1000\n",
    "    \n",
    "    return str(round(relPrice, 2)) +  ' R$/' + (\"kg\" if (unit == 'g' or unit == 'kg') else 'L')"
   ]
  },
  {
   "cell_type": "code",
   "execution_count": 3,
   "metadata": {},
   "outputs": [],
   "source": [
    "baseURL = \"https://busca.carrefour.com.br/busca?q=\"\n",
    "\n",
    "wh = 'WH-EFB'"
   ]
  },
  {
   "cell_type": "code",
   "execution_count": 28,
   "metadata": {},
   "outputs": [],
   "source": [
    "def fetchItems(products):    \n",
    "    results = pd.DataFrame(columns=['searchKey', 'productName', 'price', 'quantity', 'relPrice'])\n",
    "\n",
    "    for key in products:\n",
    "#         print(key)\n",
    "        url = baseURL + key.lower().replace(' ', '%20')\n",
    "        html = requests.get(url).text\n",
    "        soup = BeautifulSoup(html, \"html.parser\")\n",
    "        items = soup.find_all(\"li\", class_=\"nm-product-item is-market-product nm-with-quantity\")\n",
    "        for i, item in enumerate(items):\n",
    "            info = json.loads(item[\"data-product-attr\"])\n",
    "            qt = findQuantity(info['productName'])\n",
    "            price = float(info['price'].replace(',','.'))\n",
    "            if 'warehouses' not in info:\n",
    "                continue\n",
    "            if wh in info['warehouses']:\n",
    "                results.loc[key.lower().replace(' ', '_') + '_' + str(i)] = [key, info['productName'], price, qt, findRelPrice(price, qt)]\n",
    "    return results"
   ]
  },
  {
   "cell_type": "code",
   "execution_count": 193,
   "metadata": {},
   "outputs": [],
   "source": [
    "def calculatePrices(chosen):\n",
    "    chosen['amount'] = 0\n",
    "    print(\"Quantos de cada um dos itens abaixo você deseja comprar?\")\n",
    "    for i,item in chosen.iterrows(): \n",
    "        print(item['productName'] + \" (R$ \" + str(item['price']) + \")\")\n",
    "        chosen.loc[i,'amount'] = int(input())\n",
    "\n",
    "    chosen['totalPrice'] = chosen.amount*chosen.price\n",
    "    return chosen"
   ]
  },
  {
   "cell_type": "code",
   "execution_count": 2,
   "metadata": {},
   "outputs": [],
   "source": [
    "baseURL = \"https://busca.carrefour.com.br/busca?q=\"\n",
    "\n",
    "wh = 'WH-EFB'"
   ]
  },
  {
   "cell_type": "code",
   "execution_count": 3,
   "metadata": {},
   "outputs": [],
   "source": [
    "key = 'Doritos'"
   ]
  },
  {
   "cell_type": "code",
   "execution_count": 5,
   "metadata": {},
   "outputs": [],
   "source": [
    "url = baseURL + key.lower().replace(' ', '%20')\n",
    "html = requests.get(url).text\n",
    "soup = BeautifulSoup(html, \"html.parser\")\n",
    "items = soup.find_all(\"li\", class_=\"nm-product-item is-market-product nm-with-quantity\")\n"
   ]
  }
 ],
 "metadata": {
  "kernelspec": {
   "display_name": "Python 3",
   "language": "python",
   "name": "python3"
  },
  "language_info": {
   "codemirror_mode": {
    "name": "ipython",
    "version": 3
   },
   "file_extension": ".py",
   "mimetype": "text/x-python",
   "name": "python",
   "nbconvert_exporter": "python",
   "pygments_lexer": "ipython3",
   "version": "3.8.3"
  }
 },
 "nbformat": 4,
 "nbformat_minor": 4
}
