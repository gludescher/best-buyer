{
 "cells": [
  {
   "cell_type": "code",
   "execution_count": 1,
   "metadata": {},
   "outputs": [
    {
     "name": "stdout",
     "output_type": "stream",
     "text": [
      "importing Jupyter notebook from pao_de_acucar.ipynb\n",
      "importing Jupyter notebook from carrefour.ipynb\n"
     ]
    }
   ],
   "source": [
    "import pandas as pd\n",
    "import import_ipynb\n",
    "import pao_de_acucar as pda\n",
    "import carrefour as crf\n",
    "from tabulate import tabulate\n",
    "import re"
   ]
  },
  {
   "cell_type": "code",
   "execution_count": 2,
   "metadata": {},
   "outputs": [],
   "source": [
    "_SUGGESTED = 1000\n",
    "_MIN_PRICE = 1001\n",
    "_MANUAL = 1002\n",
    "_PDA = \"Pão de Açúcar\"\n",
    "_CRF = \"Carrefour\"\n",
    "\n",
    "markets = [_PDA, _CRF]"
   ]
  },
  {
   "cell_type": "code",
   "execution_count": 3,
   "metadata": {},
   "outputs": [],
   "source": [
    "def selectResults(results, decision_mode=_SUGGESTED, manual_list=[]):\n",
    "    if decision_mode == _SUGGESTED:\n",
    "        selected = results.drop_duplicates(subset=['searchKey'], keep='first')\n",
    "    elif decision_mode == _MIN_PRICE:\n",
    "        selected = results.groupby('searchKey').min()\n",
    "    elif decision_mode == _MANUAL:\n",
    "        selected = results[results.index.isin(manual_list)]\n",
    "    else:\n",
    "        selected = results\n",
    "    return selected"
   ]
  },
  {
   "cell_type": "code",
   "execution_count": 4,
   "metadata": {},
   "outputs": [],
   "source": [
    "def fetchMarketItems(products, market):\n",
    "    if market == _PDA:\n",
    "        result = pda.fetchItems(products)\n",
    "        result['market'] = _PDA\n",
    "    elif market == _CRF:\n",
    "        result = crf.fetchItems(products)\n",
    "        result['market'] = _CRF\n",
    "    return result"
   ]
  },
  {
   "cell_type": "code",
   "execution_count": 5,
   "metadata": {},
   "outputs": [],
   "source": [
    "def getInput(accepted=[], case_sensitive=False, numeric_only=False, min_number=0, max_number=999999):\n",
    "    if numeric_only:\n",
    "        txt = input()\n",
    "        while (not txt.isnumeric()) or int(txt) < min_number or int(txt) > max_number:\n",
    "            print(\"Por favor insira um número válido!\")\n",
    "            txt = input()\n",
    "    elif accepted == []:\n",
    "        txt = input()\n",
    "    else:\n",
    "        txt = input()\n",
    "        if case_sensitive:\n",
    "            while txt not in accepted:\n",
    "                print(\"Por favor insira uma resposta válida!\")\n",
    "                txt = input()\n",
    "        else:\n",
    "            accepted_l = [x.lower() for x in accepted] \n",
    "            while txt.lower() not in accepted_l:\n",
    "                print(\"Por favor insira uma resposta válida!\")\n",
    "                txt = input()\n",
    "    return txt"
   ]
  },
  {
   "cell_type": "code",
   "execution_count": 6,
   "metadata": {},
   "outputs": [],
   "source": [
    "def queryMarkets(products):\n",
    "    mkt_results = {}\n",
    "    for m in markets:\n",
    "        print (\"Deseja buscar seus itens no mercado \" + m + \"? (s/n)\")\n",
    "        resp = getInput(accepted=['s', 'n', 'sim', 'não', 'nao'], case_sensitive=False).lower()\n",
    "        if \"s\" in resp:\n",
    "            print(\"Buscando produtos no {}...\".format(m))\n",
    "            mkt_results[m] = (fetchMarketItems(products, m))\n",
    "            \n",
    "    return mkt_results"
   ]
  },
  {
   "cell_type": "code",
   "execution_count": 30,
   "metadata": {},
   "outputs": [],
   "source": [
    "def chooseItems(mkt_results, products):\n",
    "    chosen = pd.DataFrame(columns=[\"market\", \"productName\", \"quantity\", \"price\"])\n",
    "    for p in products:\n",
    "        temp = [mkt_results[m][mkt_results[m].searchKey==p] for m in mkt_results]\n",
    "        pr = pd.concat(temp).reset_index().drop(columns=['index', 'searchKey'])\n",
    "        print(\"Digite os índices dos itens que deseja incluir para o produto \" + p.upper() + \" (números separados por vírgula)\")\n",
    "        print(tabulate(pr, headers='keys', tablefmt='psql'))\n",
    "        chosenItems = input().replace(\" \", \"\").split(\",\")\n",
    "        badItems = [x for x in chosenItems if int(x) not in pr.index]\n",
    "        while len(badItems) > 0:\n",
    "            print(\"Por favor, insira itens válidos de acordo com a tabela acima.\")\n",
    "            chosenItems = input().replace(\" \", \"\").split(\",\")\n",
    "            badItems = [x for x in chosenItems if int(x) not in pr.index]\n",
    "        for i in chosenItems:\n",
    "            chosen.loc[p+\"_\"+i] = pr.iloc[int(i)][['market', 'productName', 'quantity', 'price']]\n",
    "    return chosen.reset_index().drop(columns=['index'])"
   ]
  },
  {
   "cell_type": "code",
   "execution_count": 8,
   "metadata": {},
   "outputs": [],
   "source": [
    "def getAmounts(chosen):\n",
    "    chosen['amount'] = 0\n",
    "    for i, c in chosen.iterrows():\n",
    "        print(\"Quantos de \" + c.productName + \" (R$ \" + str(c.price).replace(\".\", \",\") + \") você deseja comprar?\")\n",
    "        chosen.at[i,'amount'] = getInput(numeric_only=True)\n",
    "        chosen['totalPrice'] = chosen.amount*chosen.price\n",
    "    return chosen"
   ]
  },
  {
   "cell_type": "code",
   "execution_count": 43,
   "metadata": {},
   "outputs": [],
   "source": [
    "def getTotals(item_amounts):\n",
    "    total = item_amounts.totalPrice.sum()\n",
    "    for m in markets:\n",
    "        item_amounts.loc['SubTotal ' + m] = [m, '','','','',item_amounts[item_amounts.market==m].totalPrice.sum()]\n",
    "    item_amounts.loc['Total'] = ['','','','','',total]\n",
    "    return item_amounts"
   ]
  },
  {
   "cell_type": "code",
   "execution_count": 42,
   "metadata": {},
   "outputs": [],
   "source": [
    "def shop(products):\n",
    "    mkt_results = queryMarkets(products)\n",
    "    chosen_items = chooseItems(mkt_results, products)\n",
    "    item_amounts = getAmounts(chosen_items)\n",
    "    item_totals = getTotals(item_amounts)\n",
    "    return item_totals"
   ]
  },
  {
   "cell_type": "code",
   "execution_count": 31,
   "metadata": {},
   "outputs": [],
   "source": [
    "products = [\n",
    "    \"Doritos\",\n",
    "    \"Iogurte Nestle Grego Natural\",\n",
    "    \"Macarrao Farfalle\",\n",
    "    \"Ovos grandes duzia\",\n",
    "    \"Miojo Galinha Caipira Nissin\"\n",
    "]"
   ]
  }
 ],
 "metadata": {
  "kernelspec": {
   "display_name": "Python 3",
   "language": "python",
   "name": "python3"
  },
  "language_info": {
   "codemirror_mode": {
    "name": "ipython",
    "version": 3
   },
   "file_extension": ".py",
   "mimetype": "text/x-python",
   "name": "python",
   "nbconvert_exporter": "python",
   "pygments_lexer": "ipython3",
   "version": "3.8.3"
  }
 },
 "nbformat": 4,
 "nbformat_minor": 4
}
