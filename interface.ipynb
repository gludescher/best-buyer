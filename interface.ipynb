{
 "cells": [
  {
   "cell_type": "markdown",
   "metadata": {},
   "source": [
    "### Importar Dependências\n",
    "\n",
    "Rode a célula abaixo para importar as dependências necessárias.<br> \n",
    "Para rodar uma célula, clique na célula desejada e aperte \"Run the selected cells and advance\" ou Shift+Enter "
   ]
  },
  {
   "cell_type": "code",
   "execution_count": 1,
   "metadata": {},
   "outputs": [
    {
     "name": "stdout",
     "output_type": "stream",
     "text": [
      "importing Jupyter notebook from best_buyer.ipynb\n",
      "importing Jupyter notebook from pao_de_acucar.ipynb\n",
      "importing Jupyter notebook from carrefour.ipynb\n"
     ]
    }
   ],
   "source": [
    "import import_ipynb\n",
    "import best_buyer as bb"
   ]
  },
  {
   "cell_type": "markdown",
   "metadata": {},
   "source": [
    "## Listar Produtos\n",
    "\n",
    "Liste seus produtos como se fizesse uma busca em um site de mercado.<br>\n",
    "Os produtos devem formar uma lista, para isso:\n",
    "- O nome da lista deve ser \"products\";\n",
    "- A lista deve começar e terminar com colchetes;\n",
    "- Cada item deve estar entre aspas e com uma vírgula ao final\n",
    "- Rode a célula (Shift+Enter).\n",
    "\n",
    "Ex.:<br>\n",
    "products = [<br>\n",
    "    &nbsp;&nbsp;&nbsp;&nbsp;&nbsp;\"Atum solido Gomes da Costa natural\",<br>\n",
    "    &nbsp;&nbsp;&nbsp;&nbsp;&nbsp;\"Torrada Bauducco\",<br>\n",
    "    &nbsp;&nbsp;&nbsp;&nbsp;&nbsp;\"Suco Do Bem Goiaba\",<br>\n",
    "    &nbsp;&nbsp;&nbsp;&nbsp;&nbsp;\"Chocolate Ao Leite Lacta\",<br>\n",
    "    &nbsp;&nbsp;&nbsp;&nbsp;&nbsp;\"Milho verde em conserva\",<br>\n",
    "    &nbsp;&nbsp;&nbsp;&nbsp;&nbsp;\"Nuggets Seara\",<br>\n",
    "]\n"
   ]
  },
  {
   "cell_type": "code",
   "execution_count": 3,
   "metadata": {},
   "outputs": [],
   "source": [
    "products = [\n",
    "    \"Atum solido Gomes da Costa natural\",\n",
    "    \"Torrada Bauducco\",\n",
    "    \"Suco Do Bem Goiaba\",\n",
    "    \"Chocolate Ao Leite Lacta\",\n",
    "    \"Milho verde em conserva\",\n",
    "    \"Nuggets Seara,\"\n",
    "]"
   ]
  },
  {
   "cell_type": "markdown",
   "metadata": {},
   "source": [
    "## Executar o Programa\n",
    "Agora, basta rodar esta célula e seguir as orientações da interface."
   ]
  },
  {
   "cell_type": "code",
   "execution_count": 4,
   "metadata": {},
   "outputs": [
    {
     "name": "stdout",
     "output_type": "stream",
     "text": [
      "Deseja buscar seus itens no mercado Pão de Açúcar? (s/n)\n"
     ]
    },
    {
     "name": "stdin",
     "output_type": "stream",
     "text": [
      " s\n"
     ]
    },
    {
     "name": "stdout",
     "output_type": "stream",
     "text": [
      "Deseja buscar seus itens no mercado Carrefour? (s/n)\n"
     ]
    },
    {
     "name": "stdin",
     "output_type": "stream",
     "text": [
      " n\n"
     ]
    },
    {
     "name": "stdout",
     "output_type": "stream",
     "text": [
      "Digite os índices dos itens que deseja incluir para o produto ATUM SOLIDO GOMES DA COSTA NATURAL (números separados por vírgula)\n",
      "+----+----------------------------------------------+---------+------------+-------------+---------------+\n",
      "|    | productName                                  |   price | quantity   | relPrice    | market        |\n",
      "|----+----------------------------------------------+---------+------------+-------------+---------------|\n",
      "|  0 | Atum Sólido GOMES DA COSTA Natural Lata 120g |    7.89 | 120g       | 65.75 R$/kg | Pão de Açúcar |\n",
      "+----+----------------------------------------------+---------+------------+-------------+---------------+\n"
     ]
    },
    {
     "name": "stdin",
     "output_type": "stream",
     "text": [
      " 0\n"
     ]
    },
    {
     "name": "stdout",
     "output_type": "stream",
     "text": [
      "Digite os índices dos itens que deseja incluir para o produto TORRADA BAUDUCCO (números separados por vírgula)\n",
      "+----+--------------------------------------------+---------+------------+-------------+---------------+\n",
      "|    | productName                                |   price | quantity   | relPrice    | market        |\n",
      "|----+--------------------------------------------+---------+------------+-------------+---------------|\n",
      "|  0 | Torrada Tradicional BAUDUCCO 142g          |    3.49 | 142g       | 24.58 R$/kg | Pão de Açúcar |\n",
      "|  1 | Torrada Integral BAUDUCCO 142g             |    3.49 | 142g       | 24.58 R$/kg | Pão de Açúcar |\n",
      "|  2 | Torradas BAUDUCCO Multigrãos Pacote 142g   |    3.49 | 142g       | 24.58 R$/kg | Pão de Açúcar |\n",
      "|  3 | Pack Torrada Multigrãos BAUDUCCO 284g      |    6.81 | 284g       | 23.98 R$/kg | Pão de Açúcar |\n",
      "|  4 | Pack Torrada Integral BAUDUCCO 284g        |    6.81 | 284g       | 23.98 R$/kg | Pão de Açúcar |\n",
      "|  5 | Pack Torrada Tradicional BAUDUCCO com 284g |    6.81 | 284g       | 23.98 R$/kg | Pão de Açúcar |\n",
      "|  6 | Torrada Light BAUDUCCO 142g                |    3.49 | 142g       | 24.58 R$/kg | Pão de Açúcar |\n",
      "+----+--------------------------------------------+---------+------------+-------------+---------------+\n"
     ]
    },
    {
     "name": "stdin",
     "output_type": "stream",
     "text": [
      " 0\n"
     ]
    },
    {
     "name": "stdout",
     "output_type": "stream",
     "text": [
      "Digite os índices dos itens que deseja incluir para o produto SUCO DO BEM GOIABA (números separados por vírgula)\n",
      "+----+----------------------------------------+---------+------------+------------+---------------+\n",
      "|    | productName                            |   price | quantity   | relPrice   | market        |\n",
      "|----+----------------------------------------+---------+------------+------------+---------------|\n",
      "|  0 | Suco de Goiaba DO BEM Todo Dia 1 Litro |    6.99 | 1 Litro    | 6.99 R$/L  | Pão de Açúcar |\n",
      "+----+----------------------------------------+---------+------------+------------+---------------+\n"
     ]
    },
    {
     "name": "stdin",
     "output_type": "stream",
     "text": [
      " 0\n"
     ]
    },
    {
     "name": "stdout",
     "output_type": "stream",
     "text": [
      "Digite os índices dos itens que deseja incluir para o produto CHOCOLATE AO LEITE LACTA (números separados por vírgula)\n",
      "+----+---------------------------------------------------------------------------------------------------+---------+------------+-------------+---------------+\n",
      "|    | productName                                                                                       |   price | quantity   | relPrice    | market        |\n",
      "|----+---------------------------------------------------------------------------------------------------+---------+------------+-------------+---------------|\n",
      "|  0 | Chocolate ao Leite Shot LACTA 90g                                                                 |    4.29 | 90g        | 47.67 R$/kg | Pão de Açúcar |\n",
      "|  1 | Sorvete de Chocolate ao Leite LACTA 1,5L                                                          |   23.99 | 1,5L       | 1.6 R$/L    | Pão de Açúcar |\n",
      "|  2 | Pack Sobremesa Láctea Cremosa Chocolate ao Leite Danette Bandeja 720g 8 Unidades Grátis 1 Unidade |   12.99 | 720g       | 18.04 R$/kg | Pão de Açúcar |\n",
      "|  3 | Chocolate Bis LACTA Caixa 126g com 20 unidades                                                    |    4.79 | 126g       | 38.02 R$/kg | Pão de Açúcar |\n",
      "|  4 | Achocolatado Flocos Crocantes Chocolate Ovomaltine Pacote 190g                                    |    6.83 | 190g       | 35.95 R$/kg | Pão de Açúcar |\n",
      "+----+---------------------------------------------------------------------------------------------------+---------+------------+-------------+---------------+\n"
     ]
    },
    {
     "name": "stdin",
     "output_type": "stream",
     "text": [
      " 0\n"
     ]
    },
    {
     "name": "stdout",
     "output_type": "stream",
     "text": [
      "Digite os índices dos itens que deseja incluir para o produto MILHO VERDE EM CONSERVA (números separados por vírgula)\n",
      "+----+------------------------------------------+---------+------------+-------------+---------------+\n",
      "|    | productName                              |   price | quantity   | relPrice    | market        |\n",
      "|----+------------------------------------------+---------+------------+-------------+---------------|\n",
      "|  0 | Milho Conserva Bonduelle 170g            |    2.45 | 170g       | 14.41 R$/kg | Pão de Açúcar |\n",
      "|  1 | Milho Verde BONDUELLE Lata 285g          |   13.49 | 285g       | 47.33 R$/kg | Pão de Açúcar |\n",
      "|  2 | Milho Verde em Conserva CASÍNO Lata 140g |    4.79 | 140g       | 34.21 R$/kg | Pão de Açúcar |\n",
      "|  3 | Milho Verde QUERO Lata 170g              |    2.19 | 170g       | 12.88 R$/kg | Pão de Açúcar |\n",
      "|  4 | Milho Verde CASINO Lata 285g             |    7.79 | 285g       | 27.33 R$/kg | Pão de Açúcar |\n",
      "+----+------------------------------------------+---------+------------+-------------+---------------+\n"
     ]
    },
    {
     "name": "stdin",
     "output_type": "stream",
     "text": [
      " 0\n"
     ]
    },
    {
     "name": "stdout",
     "output_type": "stream",
     "text": [
      "Digite os índices dos itens que deseja incluir para o produto NUGGETS SEARA, (números separados por vírgula)\n",
      "+----+---------------------------------------------------------+---------+------------+-------------+---------------+\n",
      "|    | productName                                             |   price | quantity   | relPrice    | market        |\n",
      "|----+---------------------------------------------------------+---------+------------+-------------+---------------|\n",
      "|  0 | Hambúrguer Sabor Carne Seara Incrível Caixa 452g        |   32.99 | 452g       | 72.99 R$/kg | Pão de Açúcar |\n",
      "|  1 | Empanado Seara Incrível Caixa 300g                      |   19.35 | 300g       | 64.5 R$/kg  | Pão de Açúcar |\n",
      "|  2 | Tekitos Seara Tradicional 300g                          |    6.59 | 300g       | 21.97 R$/kg | Pão de Açúcar |\n",
      "|  3 | Chikenitos Seara Tradicional 300g                       |    6.99 | 300g       | 23.3 R$/kg  | Pão de Açúcar |\n",
      "|  4 | Nuggets de Frango com Queijo SADIA 300g                 |    8.99 | 300g       | 29.97 R$/kg | Pão de Açúcar |\n",
      "|  5 | Nuggets de Frango Tradicional SADIA 700g                |   20.68 | 700g       | 29.54 R$/kg | Pão de Açúcar |\n",
      "|  6 | Nuggets de Frango Crocante SADIA 300g                   |    8.99 | 300g       | 29.97 R$/kg | Pão de Açúcar |\n",
      "|  7 | Nuggets de Frango Tradicional SADIA 300g                |    8.99 | 300g       | 29.97 R$/kg | Pão de Açúcar |\n",
      "|  8 | Nuggets de Legumes com Peito de Frango SADIA Sachê 275g |    8.99 | 275g       | 32.69 R$/kg | Pão de Açúcar |\n",
      "|  9 | Linguiça Seara Toscana 700g                             |   15.99 | 700g       | 22.84 R$/kg | Pão de Açúcar |\n",
      "| 10 | Salsicha Longuette SEARA 500g                           |    8.99 | 500g       | 17.98 R$/kg | Pão de Açúcar |\n",
      "| 11 | Mandioca Supreme SEARA 600g                             |   12.75 | 600g       | 21.25 R$/kg | Pão de Açúcar |\n",
      "+----+---------------------------------------------------------+---------+------------+-------------+---------------+\n"
     ]
    },
    {
     "name": "stdin",
     "output_type": "stream",
     "text": [
      " 0\n"
     ]
    },
    {
     "name": "stdout",
     "output_type": "stream",
     "text": [
      "Quantos de Atum Sólido GOMES DA COSTA Natural Lata 120g (R$ 7,89) você deseja comprar?\n"
     ]
    },
    {
     "name": "stdin",
     "output_type": "stream",
     "text": [
      " 1\n"
     ]
    },
    {
     "name": "stdout",
     "output_type": "stream",
     "text": [
      "Quantos de Torrada Tradicional BAUDUCCO 142g (R$ 3,49) você deseja comprar?\n"
     ]
    },
    {
     "name": "stdin",
     "output_type": "stream",
     "text": [
      " 2\n"
     ]
    },
    {
     "name": "stdout",
     "output_type": "stream",
     "text": [
      "Quantos de Suco de Goiaba DO BEM Todo Dia 1 Litro (R$ 6,99) você deseja comprar?\n"
     ]
    },
    {
     "name": "stdin",
     "output_type": "stream",
     "text": [
      " 0\n"
     ]
    },
    {
     "name": "stdout",
     "output_type": "stream",
     "text": [
      "Quantos de Chocolate ao Leite Shot LACTA 90g (R$ 4,29) você deseja comprar?\n"
     ]
    },
    {
     "name": "stdin",
     "output_type": "stream",
     "text": [
      " 30\n"
     ]
    },
    {
     "name": "stdout",
     "output_type": "stream",
     "text": [
      "Quantos de Milho Conserva Bonduelle 170g (R$ 2,45) você deseja comprar?\n"
     ]
    },
    {
     "name": "stdin",
     "output_type": "stream",
     "text": [
      " 10\n"
     ]
    },
    {
     "name": "stdout",
     "output_type": "stream",
     "text": [
      "Quantos de Hambúrguer Sabor Carne Seara Incrível Caixa 452g (R$ 32,99) você deseja comprar?\n"
     ]
    },
    {
     "name": "stdin",
     "output_type": "stream",
     "text": [
      " 1\n"
     ]
    },
    {
     "data": {
      "text/html": [
       "<div>\n",
       "<style scoped>\n",
       "    .dataframe tbody tr th:only-of-type {\n",
       "        vertical-align: middle;\n",
       "    }\n",
       "\n",
       "    .dataframe tbody tr th {\n",
       "        vertical-align: top;\n",
       "    }\n",
       "\n",
       "    .dataframe thead th {\n",
       "        text-align: right;\n",
       "    }\n",
       "</style>\n",
       "<table border=\"1\" class=\"dataframe\">\n",
       "  <thead>\n",
       "    <tr style=\"text-align: right;\">\n",
       "      <th></th>\n",
       "      <th>market</th>\n",
       "      <th>productName</th>\n",
       "      <th>quantity</th>\n",
       "      <th>price</th>\n",
       "      <th>amount</th>\n",
       "      <th>totalPrice</th>\n",
       "    </tr>\n",
       "  </thead>\n",
       "  <tbody>\n",
       "    <tr>\n",
       "      <th>0</th>\n",
       "      <td>Pão de Açúcar</td>\n",
       "      <td>Atum Sólido GOMES DA COSTA Natural Lata 120g</td>\n",
       "      <td>120g</td>\n",
       "      <td>7.89</td>\n",
       "      <td>1</td>\n",
       "      <td>7.89</td>\n",
       "    </tr>\n",
       "    <tr>\n",
       "      <th>1</th>\n",
       "      <td>Pão de Açúcar</td>\n",
       "      <td>Torrada Tradicional BAUDUCCO 142g</td>\n",
       "      <td>142g</td>\n",
       "      <td>3.49</td>\n",
       "      <td>2</td>\n",
       "      <td>6.98</td>\n",
       "    </tr>\n",
       "    <tr>\n",
       "      <th>2</th>\n",
       "      <td>Pão de Açúcar</td>\n",
       "      <td>Suco de Goiaba DO BEM Todo Dia 1 Litro</td>\n",
       "      <td>1 Litro</td>\n",
       "      <td>6.99</td>\n",
       "      <td>0</td>\n",
       "      <td>0.00</td>\n",
       "    </tr>\n",
       "    <tr>\n",
       "      <th>3</th>\n",
       "      <td>Pão de Açúcar</td>\n",
       "      <td>Chocolate ao Leite Shot LACTA 90g</td>\n",
       "      <td>90g</td>\n",
       "      <td>4.29</td>\n",
       "      <td>30</td>\n",
       "      <td>128.70</td>\n",
       "    </tr>\n",
       "    <tr>\n",
       "      <th>4</th>\n",
       "      <td>Pão de Açúcar</td>\n",
       "      <td>Milho Conserva Bonduelle 170g</td>\n",
       "      <td>170g</td>\n",
       "      <td>2.45</td>\n",
       "      <td>10</td>\n",
       "      <td>24.50</td>\n",
       "    </tr>\n",
       "    <tr>\n",
       "      <th>5</th>\n",
       "      <td>Pão de Açúcar</td>\n",
       "      <td>Hambúrguer Sabor Carne Seara Incrível Caixa 452g</td>\n",
       "      <td>452g</td>\n",
       "      <td>32.99</td>\n",
       "      <td>1</td>\n",
       "      <td>32.99</td>\n",
       "    </tr>\n",
       "  </tbody>\n",
       "</table>\n",
       "</div>"
      ],
      "text/plain": [
       "          market                                       productName quantity  \\\n",
       "0  Pão de Açúcar      Atum Sólido GOMES DA COSTA Natural Lata 120g     120g   \n",
       "1  Pão de Açúcar                 Torrada Tradicional BAUDUCCO 142g     142g   \n",
       "2  Pão de Açúcar            Suco de Goiaba DO BEM Todo Dia 1 Litro  1 Litro   \n",
       "3  Pão de Açúcar                 Chocolate ao Leite Shot LACTA 90g      90g   \n",
       "4  Pão de Açúcar                     Milho Conserva Bonduelle 170g     170g   \n",
       "5  Pão de Açúcar  Hambúrguer Sabor Carne Seara Incrível Caixa 452g     452g   \n",
       "\n",
       "   price  amount  totalPrice  \n",
       "0   7.89       1        7.89  \n",
       "1   3.49       2        6.98  \n",
       "2   6.99       0        0.00  \n",
       "3   4.29      30      128.70  \n",
       "4   2.45      10       24.50  \n",
       "5  32.99       1       32.99  "
      ]
     },
     "execution_count": 4,
     "metadata": {},
     "output_type": "execute_result"
    }
   ],
   "source": [
    "bb.shop(products)"
   ]
  },
  {
   "cell_type": "code",
   "execution_count": null,
   "metadata": {},
   "outputs": [],
   "source": []
  }
 ],
 "metadata": {
  "kernelspec": {
   "display_name": "Python 3",
   "language": "python",
   "name": "python3"
  },
  "language_info": {
   "codemirror_mode": {
    "name": "ipython",
    "version": 3
   },
   "file_extension": ".py",
   "mimetype": "text/x-python",
   "name": "python",
   "nbconvert_exporter": "python",
   "pygments_lexer": "ipython3",
   "version": "3.8.3"
  }
 },
 "nbformat": 4,
 "nbformat_minor": 4
}
