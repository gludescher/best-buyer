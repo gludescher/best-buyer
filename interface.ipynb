{
 "cells": [
  {
   "cell_type": "markdown",
   "metadata": {},
   "source": [
    "### Importar Dependências\n",
    "\n",
    "Rode a célula abaixo para importar as dependências necessárias.<br> \n",
    "Para rodar uma célula, clique na célula desejada e aperte \"Run the selected cells and advance\" ou Shift+Enter "
   ]
  },
  {
   "cell_type": "code",
   "execution_count": 1,
   "metadata": {},
   "outputs": [
    {
     "name": "stdout",
     "output_type": "stream",
     "text": [
      "importing Jupyter notebook from best_buyer.ipynb\n",
      "importing Jupyter notebook from pao_de_acucar.ipynb\n",
      "importing Jupyter notebook from carrefour.ipynb\n"
     ]
    }
   ],
   "source": [
    "import import_ipynb\n",
    "import best_buyer as bb"
   ]
  },
  {
   "cell_type": "markdown",
   "metadata": {},
   "source": [
    "## Listar Produtos\n",
    "\n",
    "Liste seus produtos como se fizesse uma busca em um site de mercado.<br>\n",
    "Os produtos devem formar uma lista, para isso:\n",
    "- O nome da lista deve ser \"products\";\n",
    "- A lista deve começar e terminar com colchetes;\n",
    "- Cada item deve estar entre aspas e com uma vírgula ao final\n",
    "- Rode a célula (Shift+Enter).\n",
    "\n",
    "Ex.:<br>\n",
    "products = [<br>\n",
    "    &nbsp;&nbsp;&nbsp;&nbsp;&nbsp;\"Atum solido Gomes da Costa natural\",<br>\n",
    "    &nbsp;&nbsp;&nbsp;&nbsp;&nbsp;\"Torrada Bauducco\",<br>\n",
    "    &nbsp;&nbsp;&nbsp;&nbsp;&nbsp;\"Suco Do Bem Goiaba\",<br>\n",
    "    &nbsp;&nbsp;&nbsp;&nbsp;&nbsp;\"Chocolate Ao Leite Lacta\",<br>\n",
    "    &nbsp;&nbsp;&nbsp;&nbsp;&nbsp;\"Milho verde em conserva\",<br>\n",
    "    &nbsp;&nbsp;&nbsp;&nbsp;&nbsp;\"Nuggets Seara\",<br>\n",
    "]\n"
   ]
  },
  {
   "cell_type": "code",
   "execution_count": 3,
   "metadata": {},
   "outputs": [],
   "source": [
    "bunda = [\n",
    "    \"Atum solido Gomes da Costa natural\",\n",
    "    \"Torrada Bauducco\",\n",
    "    \"Suco Do Bem Goiaba\",\n",
    "    \"Chocolate Ao Leite Lacta\",\n",
    "    \"Milho verde em conserva\",\n",
    "    \"Nuggets Seara\",\n",
    "]"
   ]
  },
  {
   "cell_type": "markdown",
   "metadata": {},
   "source": [
    "## Executar o Programa\n",
    "Agora, basta rodar esta célula e seguir as orientações da interface."
   ]
  },
  {
   "cell_type": "code",
   "execution_count": 5,
   "metadata": {},
   "outputs": [
    {
     "name": "stdout",
     "output_type": "stream",
     "text": [
      "Deseja buscar seus itens no mercado Pão de Açúcar? (s/n)\n"
     ]
    },
    {
     "name": "stdin",
     "output_type": "stream",
     "text": [
      " s\n"
     ]
    },
    {
     "name": "stdout",
     "output_type": "stream",
     "text": [
      "Deseja buscar seus itens no mercado Carrefour? (s/n)\n"
     ]
    },
    {
     "name": "stdin",
     "output_type": "stream",
     "text": [
      " s\n"
     ]
    },
    {
     "name": "stdout",
     "output_type": "stream",
     "text": [
      "Digite os índices dos itens que deseja incluir para o produto ATUM SOLIDO GOMES DA COSTA NATURAL (números separados por vírgula)\n",
      "+----+----------------------------------------------------------+---------+------------+-------------+---------------+\n",
      "|    | productName                                              |   price | quantity   | relPrice    | market        |\n",
      "|----+----------------------------------------------------------+---------+------------+-------------+---------------|\n",
      "|  0 | Atum Sólido GOMES DA COSTA Natural Lata 120g             |    7.89 | 120g       | 65.75 R$/kg | Pão de Açúcar |\n",
      "|  1 | Atum Sólido ao Natural Gomes da Costa 170g               |    8.69 | 170g       | 51.12 R$/kg | Carrefour     |\n",
      "|  2 | Atum Sólido ao Natural Gomes da Costa 170g               |    8.59 | 170g       | 50.53 R$/kg | Carrefour     |\n",
      "|  3 | Atum Sólido ao Natural Light Gomes da Costa Premium 170g |    9.05 | 170g       | 53.24 R$/kg | Carrefour     |\n",
      "+----+----------------------------------------------------------+---------+------------+-------------+---------------+\n"
     ]
    },
    {
     "name": "stdin",
     "output_type": "stream",
     "text": [
      " 0\n"
     ]
    },
    {
     "name": "stdout",
     "output_type": "stream",
     "text": [
      "Digite os índices dos itens que deseja incluir para o produto TORRADA BAUDUCCO (números separados por vírgula)\n",
      "+----+--------------------------------------------+---------+------------+-------------+---------------+\n",
      "|    | productName                                |   price | quantity   | relPrice    | market        |\n",
      "|----+--------------------------------------------+---------+------------+-------------+---------------|\n",
      "|  0 | Torrada Tradicional BAUDUCCO 142g          |    3.49 | 142g       | 24.58 R$/kg | Pão de Açúcar |\n",
      "|  1 | Torrada Integral BAUDUCCO 142g             |    3.49 | 142g       | 24.58 R$/kg | Pão de Açúcar |\n",
      "|  2 | Torradas BAUDUCCO Multigrãos Pacote 142g   |    3.49 | 142g       | 24.58 R$/kg | Pão de Açúcar |\n",
      "|  3 | Pack Torrada Multigrãos BAUDUCCO 284g      |    6.81 | 284g       | 23.98 R$/kg | Pão de Açúcar |\n",
      "|  4 | Pack Torrada Integral BAUDUCCO 284g        |    6.81 | 284g       | 23.98 R$/kg | Pão de Açúcar |\n",
      "|  5 | Pack Torrada Tradicional BAUDUCCO com 284g |    6.81 | 284g       | 23.98 R$/kg | Pão de Açúcar |\n",
      "|  6 | Torrada Light BAUDUCCO 142g                |    3.49 | 142g       | 24.58 R$/kg | Pão de Açúcar |\n",
      "|  7 | Torrada Salgada Bauducco 110g              |    3.69 | 110g       | 33.55 R$/kg | Carrefour     |\n",
      "+----+--------------------------------------------+---------+------------+-------------+---------------+\n"
     ]
    },
    {
     "name": "stdin",
     "output_type": "stream",
     "text": [
      " 1,2\n"
     ]
    },
    {
     "name": "stdout",
     "output_type": "stream",
     "text": [
      "Digite os índices dos itens que deseja incluir para o produto SUCO DO BEM GOIABA (números separados por vírgula)\n",
      "+----+----------------------------------------+---------+------------+------------+---------------+\n",
      "|    | productName                            |   price | quantity   | relPrice   | market        |\n",
      "|----+----------------------------------------+---------+------------+------------+---------------|\n",
      "|  0 | Suco de Goiaba DO BEM Todo Dia 1 Litro |    6.99 | 1 Litro    | 6.99 R$/L  | Pão de Açúcar |\n",
      "|  1 | Suco de Goiaba Do Bem Todo Dia 1 Litro |    7.39 | 1 Litro    | 7.39 R$/L  | Carrefour     |\n",
      "|  2 | Suco de Goiaba Do Bem Todo Dia 200ml   |    1.99 | 200ml      | 9.95 R$/L  | Carrefour     |\n",
      "+----+----------------------------------------+---------+------------+------------+---------------+\n"
     ]
    },
    {
     "name": "stdin",
     "output_type": "stream",
     "text": [
      " 0\n"
     ]
    },
    {
     "name": "stdout",
     "output_type": "stream",
     "text": [
      "Digite os índices dos itens que deseja incluir para o produto CHOCOLATE AO LEITE LACTA (números separados por vírgula)\n",
      "+----+---------------------------------------------------------------------------------------------------+---------+------------+-------------+---------------+\n",
      "|    | productName                                                                                       |   price | quantity   | relPrice    | market        |\n",
      "|----+---------------------------------------------------------------------------------------------------+---------+------------+-------------+---------------|\n",
      "|  0 | Chocolate LACTA ao Leite 165g                                                                     |    6.99 | 165g       | 42.36 R$/kg | Pão de Açúcar |\n",
      "|  1 | Sorvete de Chocolate ao Leite LACTA 1,5L                                                          |   23.99 | 1,5L       | 1.6 R$/L    | Pão de Açúcar |\n",
      "|  2 | Pack Sobremesa Láctea Cremosa Chocolate ao Leite Danette Bandeja 720g 8 Unidades Grátis 1 Unidade |   12.99 | 720g       | 18.04 R$/kg | Pão de Açúcar |\n",
      "|  3 | Chocolate Bis LACTA Caixa 126g com 20 unidades                                                    |    4.79 | 126g       | 38.02 R$/kg | Pão de Açúcar |\n",
      "|  4 | Achocolatado Flocos Crocantes Chocolate Ovomaltine Pacote 190g                                    |    6.83 | 190g       | 35.95 R$/kg | Pão de Açúcar |\n",
      "|  5 | Barra de Chocolate ao Leite Lacta 90g                                                             |    3.99 | 90g        | 44.33 R$/kg | Carrefour     |\n",
      "|  6 | Barra de Chocolate ao Leite Diamante Negro 90g                                                    |    3.99 | 90g        | 44.33 R$/kg | Carrefour     |\n",
      "|  7 | Chocolate ao Leite Bis 126g                                                                       |    4.49 | 126g       | 35.63 R$/kg | Carrefour     |\n",
      "|  8 | Barra de Chocolate Meio Amargo 60% Cacau Lacta Intense 85g                                        |    5.99 | 85g        | 70.47 R$/kg | Carrefour     |\n",
      "|  9 | Barra de Chocolate Meio Amargo Café 60% Cacau Lacta Intense 85g                                   |    5.99 | 85g        | 70.47 R$/kg | Carrefour     |\n",
      "| 10 | Barra de Chocolate ao Leite com Geleia de Morando, Baunilha e Amendoim Lacta 100g                 |    3.99 | 100g       | 39.9 R$/kg  | Carrefour     |\n",
      "| 11 | Barra de Chocolate ao Leite Lacta Specials Oreo 325g                                              |   28.59 | 325g       | 87.97 R$/kg | Carrefour     |\n",
      "| 12 | Barra de Chocolate ao Leite Lacta 165g Tamanho Família                                            |    7.99 | 165g       | 48.42 R$/kg | Carrefour     |\n",
      "| 13 | Barra de Chocolate ao Leite Lacta Specials Chocobiscuit 300g                                      |   28.59 | 300g       | 95.3 R$/kg  | Carrefour     |\n",
      "| 14 | Chocolate ao Leite Bis Black 100,8g                                                               |    4.49 | 100,8g     | 4.45 R$/kg  | Carrefour     |\n",
      "| 15 | Wafer Recheado de Chocolate Lacta Amandita 200g                                                   |   11.49 | 200g       | 57.45 R$/kg | Carrefour     |\n",
      "| 16 | Chocolate Branco Bis Oreo 100,8g                                                                  |    4.49 | 100,8g     | 4.45 R$/kg  | Carrefour     |\n",
      "| 17 | Chocolate Branco Bis 126g                                                                         |    4.49 | 126g       | 35.63 R$/kg | Carrefour     |\n",
      "| 18 | Trufas ao Leite Lacta Sortidas com 9 Unidades                                                     |   13.89 |            |             | Carrefour     |\n",
      "| 19 | Barra de Chocolate ao Leite Shot Tamanho Família 165g                                             |    7.99 | 165g       | 48.42 R$/kg | Carrefour     |\n",
      "| 20 | Bombom de Chocolate ao Leite 5Star 40g                                                            |    1.99 | 40g        | 49.75 R$/kg | Carrefour     |\n",
      "| 21 | Trufas ao Leite Lacta Sortidas com 12 Unidades                                                    |   21.09 |            |             | Carrefour     |\n",
      "+----+---------------------------------------------------------------------------------------------------+---------+------------+-------------+---------------+\n"
     ]
    },
    {
     "name": "stdin",
     "output_type": "stream",
     "text": [
      " 20\n"
     ]
    },
    {
     "name": "stdout",
     "output_type": "stream",
     "text": [
      "Digite os índices dos itens que deseja incluir para o produto MILHO VERDE EM CONSERVA (números separados por vírgula)\n",
      "+----+---------------------------------------------------+---------+------------+-------------+---------------+\n",
      "|    | productName                                       |   price | quantity   | relPrice    | market        |\n",
      "|----+---------------------------------------------------+---------+------------+-------------+---------------|\n",
      "|  0 | Milho Conserva Bonduelle 170g                     |    2.45 | 170g       | 14.41 R$/kg | Pão de Açúcar |\n",
      "|  1 | Milho Verde BONDUELLE Lata 285g                   |   13.49 | 285g       | 47.33 R$/kg | Pão de Açúcar |\n",
      "|  2 | Milho Verde em Conserva CASÍNO Lata 140g          |    4.79 | 140g       | 34.21 R$/kg | Pão de Açúcar |\n",
      "|  3 | Milho Verde QUERO Lata 170g                       |    2.19 | 170g       | 12.88 R$/kg | Pão de Açúcar |\n",
      "|  4 | Milho Verde CASINO Lata 285g                      |    8.19 | 285g       | 28.74 R$/kg | Pão de Açúcar |\n",
      "|  5 | Milho Verde em Conserva Knorr 290g                |    1.99 | 290g       | 6.86 R$/kg  | Carrefour     |\n",
      "|  6 | Milho Verde em Conserva Carrefour 200g            |    1.99 | 200g       | 9.95 R$/kg  | Carrefour     |\n",
      "|  7 | Milho Verde em Conserva Bonduelle 170g            |    2.49 | 170g       | 14.65 R$/kg | Carrefour     |\n",
      "|  8 | Milho Verde em Conserva Bonduelle ao Natural 200g |    3.39 | 200g       | 16.95 R$/kg | Carrefour     |\n",
      "|  9 | Milho Verde em Conserva Bonduelle 300g            |   13.69 | 300g       | 45.63 R$/kg | Carrefour     |\n",
      "+----+---------------------------------------------------+---------+------------+-------------+---------------+\n"
     ]
    },
    {
     "name": "stdin",
     "output_type": "stream",
     "text": [
      " 9\n"
     ]
    },
    {
     "name": "stdout",
     "output_type": "stream",
     "text": [
      "Digite os índices dos itens que deseja incluir para o produto NUGGETS SEARA (números separados por vírgula)\n",
      "+----+---------------------------------------------------------+---------+------------+-------------+---------------+\n",
      "|    | productName                                             |   price | quantity   | relPrice    | market        |\n",
      "|----+---------------------------------------------------------+---------+------------+-------------+---------------|\n",
      "|  0 | Hambúrguer Sabor Carne Seara Incrível Caixa 452g        |   32.99 | 452g       | 72.99 R$/kg | Pão de Açúcar |\n",
      "|  1 | Empanado Seara Incrível Caixa 300g                      |   19.35 | 300g       | 64.5 R$/kg  | Pão de Açúcar |\n",
      "|  2 | Tekitos Seara Tradicional 300g                          |    6.59 | 300g       | 21.97 R$/kg | Pão de Açúcar |\n",
      "|  3 | Chikenitos Seara Tradicional 300g                       |    6.99 | 300g       | 23.3 R$/kg  | Pão de Açúcar |\n",
      "|  4 | Nuggets de Frango Tradicional SADIA 700g                |   20.68 | 700g       | 29.54 R$/kg | Pão de Açúcar |\n",
      "|  5 | Nuggets de Frango Crocante SADIA 300g                   |    8.99 | 300g       | 29.97 R$/kg | Pão de Açúcar |\n",
      "|  6 | Nuggets de Frango Tradicional SADIA 300g                |    8.99 | 300g       | 29.97 R$/kg | Pão de Açúcar |\n",
      "|  7 | Nuggets de Legumes com Peito de Frango SADIA Sachê 275g |    8.99 | 275g       | 32.69 R$/kg | Pão de Açúcar |\n",
      "|  8 | Linguiça Seara Toscana 700g                             |   15.99 | 700g       | 22.84 R$/kg | Pão de Açúcar |\n",
      "|  9 | Salsicha Longuette SEARA 500g                           |    8.99 | 500g       | 17.98 R$/kg | Pão de Açúcar |\n",
      "| 10 | Mandioca Supreme SEARA 600g                             |   12.75 | 600g       | 21.25 R$/kg | Pão de Açúcar |\n",
      "| 11 | Almôndega Bovina SEARA 500g                             |   17.7  | 500g       | 35.4 R$/kg  | Pão de Açúcar |\n",
      "| 12 | Empanado Frango com Queijo e Orégano Seara Tekitos      |    6.69 |            |             | Carrefour     |\n",
      "+----+---------------------------------------------------------+---------+------------+-------------+---------------+\n"
     ]
    },
    {
     "name": "stdin",
     "output_type": "stream",
     "text": [
      " 12\n"
     ]
    },
    {
     "name": "stdout",
     "output_type": "stream",
     "text": [
      "Quantos de Atum Sólido GOMES DA COSTA Natural Lata 120g (R$ 7,89) você deseja comprar?\n"
     ]
    },
    {
     "name": "stdin",
     "output_type": "stream",
     "text": [
      " 2\n"
     ]
    },
    {
     "name": "stdout",
     "output_type": "stream",
     "text": [
      "Quantos de Torrada Integral BAUDUCCO 142g (R$ 3,49) você deseja comprar?\n"
     ]
    },
    {
     "name": "stdin",
     "output_type": "stream",
     "text": [
      " 5\n"
     ]
    },
    {
     "name": "stdout",
     "output_type": "stream",
     "text": [
      "Quantos de Torradas BAUDUCCO Multigrãos Pacote 142g (R$ 3,49) você deseja comprar?\n"
     ]
    },
    {
     "name": "stdin",
     "output_type": "stream",
     "text": [
      " 0\n"
     ]
    },
    {
     "name": "stdout",
     "output_type": "stream",
     "text": [
      "Quantos de Suco de Goiaba DO BEM Todo Dia 1 Litro (R$ 6,99) você deseja comprar?\n"
     ]
    },
    {
     "name": "stdin",
     "output_type": "stream",
     "text": [
      " 50\n"
     ]
    },
    {
     "name": "stdout",
     "output_type": "stream",
     "text": [
      "Quantos de Bombom de Chocolate ao Leite 5Star 40g (R$ 1,99) você deseja comprar?\n"
     ]
    },
    {
     "name": "stdin",
     "output_type": "stream",
     "text": [
      " 1000\n"
     ]
    },
    {
     "name": "stdout",
     "output_type": "stream",
     "text": [
      "Quantos de Milho Verde em Conserva Bonduelle 300g (R$ 13,69) você deseja comprar?\n"
     ]
    },
    {
     "name": "stdin",
     "output_type": "stream",
     "text": [
      " 1\n"
     ]
    },
    {
     "name": "stdout",
     "output_type": "stream",
     "text": [
      "Quantos de Empanado Frango com Queijo e Orégano Seara Tekitos (R$ 6,69) você deseja comprar?\n"
     ]
    },
    {
     "name": "stdin",
     "output_type": "stream",
     "text": [
      " 0\n"
     ]
    },
    {
     "data": {
      "text/html": [
       "<div>\n",
       "<style scoped>\n",
       "    .dataframe tbody tr th:only-of-type {\n",
       "        vertical-align: middle;\n",
       "    }\n",
       "\n",
       "    .dataframe tbody tr th {\n",
       "        vertical-align: top;\n",
       "    }\n",
       "\n",
       "    .dataframe thead th {\n",
       "        text-align: right;\n",
       "    }\n",
       "</style>\n",
       "<table border=\"1\" class=\"dataframe\">\n",
       "  <thead>\n",
       "    <tr style=\"text-align: right;\">\n",
       "      <th></th>\n",
       "      <th>market</th>\n",
       "      <th>productName</th>\n",
       "      <th>quantity</th>\n",
       "      <th>price</th>\n",
       "      <th>amount</th>\n",
       "      <th>totalPrice</th>\n",
       "    </tr>\n",
       "  </thead>\n",
       "  <tbody>\n",
       "    <tr>\n",
       "      <th>0</th>\n",
       "      <td>Pão de Açúcar</td>\n",
       "      <td>Atum Sólido GOMES DA COSTA Natural Lata 120g</td>\n",
       "      <td>120g</td>\n",
       "      <td>7.89</td>\n",
       "      <td>2</td>\n",
       "      <td>15.78</td>\n",
       "    </tr>\n",
       "    <tr>\n",
       "      <th>1</th>\n",
       "      <td>Pão de Açúcar</td>\n",
       "      <td>Torrada Integral BAUDUCCO 142g</td>\n",
       "      <td>142g</td>\n",
       "      <td>3.49</td>\n",
       "      <td>5</td>\n",
       "      <td>17.45</td>\n",
       "    </tr>\n",
       "    <tr>\n",
       "      <th>2</th>\n",
       "      <td>Pão de Açúcar</td>\n",
       "      <td>Torradas BAUDUCCO Multigrãos Pacote 142g</td>\n",
       "      <td>142g</td>\n",
       "      <td>3.49</td>\n",
       "      <td>0</td>\n",
       "      <td>0.00</td>\n",
       "    </tr>\n",
       "    <tr>\n",
       "      <th>3</th>\n",
       "      <td>Pão de Açúcar</td>\n",
       "      <td>Suco de Goiaba DO BEM Todo Dia 1 Litro</td>\n",
       "      <td>1 Litro</td>\n",
       "      <td>6.99</td>\n",
       "      <td>50</td>\n",
       "      <td>349.50</td>\n",
       "    </tr>\n",
       "    <tr>\n",
       "      <th>4</th>\n",
       "      <td>Carrefour</td>\n",
       "      <td>Bombom de Chocolate ao Leite 5Star 40g</td>\n",
       "      <td>40g</td>\n",
       "      <td>1.99</td>\n",
       "      <td>1000</td>\n",
       "      <td>1990.00</td>\n",
       "    </tr>\n",
       "    <tr>\n",
       "      <th>5</th>\n",
       "      <td>Carrefour</td>\n",
       "      <td>Milho Verde em Conserva Bonduelle 300g</td>\n",
       "      <td>300g</td>\n",
       "      <td>13.69</td>\n",
       "      <td>1</td>\n",
       "      <td>13.69</td>\n",
       "    </tr>\n",
       "    <tr>\n",
       "      <th>6</th>\n",
       "      <td>Carrefour</td>\n",
       "      <td>Empanado Frango com Queijo e Orégano Seara Tek...</td>\n",
       "      <td></td>\n",
       "      <td>6.69</td>\n",
       "      <td>0</td>\n",
       "      <td>0.00</td>\n",
       "    </tr>\n",
       "  </tbody>\n",
       "</table>\n",
       "</div>"
      ],
      "text/plain": [
       "          market                                        productName quantity  \\\n",
       "0  Pão de Açúcar       Atum Sólido GOMES DA COSTA Natural Lata 120g     120g   \n",
       "1  Pão de Açúcar                     Torrada Integral BAUDUCCO 142g     142g   \n",
       "2  Pão de Açúcar           Torradas BAUDUCCO Multigrãos Pacote 142g     142g   \n",
       "3  Pão de Açúcar             Suco de Goiaba DO BEM Todo Dia 1 Litro  1 Litro   \n",
       "4      Carrefour             Bombom de Chocolate ao Leite 5Star 40g      40g   \n",
       "5      Carrefour             Milho Verde em Conserva Bonduelle 300g     300g   \n",
       "6      Carrefour  Empanado Frango com Queijo e Orégano Seara Tek...            \n",
       "\n",
       "   price  amount  totalPrice  \n",
       "0   7.89       2       15.78  \n",
       "1   3.49       5       17.45  \n",
       "2   3.49       0        0.00  \n",
       "3   6.99      50      349.50  \n",
       "4   1.99    1000     1990.00  \n",
       "5  13.69       1       13.69  \n",
       "6   6.69       0        0.00  "
      ]
     },
     "execution_count": 5,
     "metadata": {},
     "output_type": "execute_result"
    }
   ],
   "source": [
    "bb.shop(bunda)"
   ]
  },
  {
   "cell_type": "code",
   "execution_count": null,
   "metadata": {},
   "outputs": [],
   "source": []
  }
 ],
 "metadata": {
  "kernelspec": {
   "display_name": "Python 3",
   "language": "python",
   "name": "python3"
  },
  "language_info": {
   "codemirror_mode": {
    "name": "ipython",
    "version": 3
   },
   "file_extension": ".py",
   "mimetype": "text/x-python",
   "name": "python",
   "nbconvert_exporter": "python",
   "pygments_lexer": "ipython3",
   "version": "3.8.3"
  }
 },
 "nbformat": 4,
 "nbformat_minor": 4
}
