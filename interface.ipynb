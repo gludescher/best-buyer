{
 "cells": [
  {
   "cell_type": "markdown",
   "metadata": {},
   "source": [
    "### Importar Dependências\n",
    "\n",
    "Rode a célula abaixo para importar as dependências necessárias.<br> \n",
    "Para rodar uma célula, clique na célula desejada e aperte \"Run the selected cells and advance\" ou Shift+Enter "
   ]
  },
  {
   "cell_type": "code",
   "execution_count": 1,
   "metadata": {},
   "outputs": [
    {
     "name": "stdout",
     "output_type": "stream",
     "text": [
      "importing Jupyter notebook from best_buyer.ipynb\n",
      "importing Jupyter notebook from pao_de_acucar.ipynb\n",
      "importing Jupyter notebook from carrefour.ipynb\n"
     ]
    }
   ],
   "source": [
    "import import_ipynb\n",
    "import best_buyer as bb"
   ]
  },
  {
   "cell_type": "markdown",
   "metadata": {},
   "source": [
    "## Listar Produtos\n",
    "\n",
    "Liste seus produtos como se fizesse uma busca em um site de mercado.<br>\n",
    "Os produtos devem formar uma lista, para isso:\n",
    "- O nome da lista deve ser \"products\";\n",
    "- A lista deve começar e terminar com colchetes;\n",
    "- Cada item deve estar entre aspas e com uma vírgula ao final\n",
    "- Rode a célula (Shift+Enter).\n",
    "\n",
    "Ex.:<br>\n",
    "products = [<br>\n",
    "    &nbsp;&nbsp;&nbsp;&nbsp;&nbsp;\"Atum solido Gomes da Costa natural\",<br>\n",
    "    &nbsp;&nbsp;&nbsp;&nbsp;&nbsp;\"Torrada Bauducco\",<br>\n",
    "    &nbsp;&nbsp;&nbsp;&nbsp;&nbsp;\"Suco Do Bem Goiaba\",<br>\n",
    "    &nbsp;&nbsp;&nbsp;&nbsp;&nbsp;\"Chocolate Ao Leite Lacta\",<br>\n",
    "    &nbsp;&nbsp;&nbsp;&nbsp;&nbsp;\"Milho verde em conserva\",<br>\n",
    "    &nbsp;&nbsp;&nbsp;&nbsp;&nbsp;\"Nuggets Seara\",<br>\n",
    "]\n"
   ]
  },
  {
   "cell_type": "code",
   "execution_count": 2,
   "metadata": {},
   "outputs": [],
   "source": [
    "products = [\n",
    "    \"Doritos\",\n",
    "    \"Iogurte Nestle Grego Natural\",\n",
    "    \"Macarrao Farfalle\",\n",
    "    \"Ovos grandes duzia\",\n",
    "    \"Miojo Galinha Caipira Nissin\"\n",
    "]"
   ]
  },
  {
   "cell_type": "markdown",
   "metadata": {},
   "source": [
    "## Executar o Programa\n",
    "Agora, basta rodar esta célula e seguir as orientações da interface."
   ]
  },
  {
   "cell_type": "code",
   "execution_count": 3,
   "metadata": {},
   "outputs": [
    {
     "name": "stdout",
     "output_type": "stream",
     "text": [
      "Deseja buscar seus itens no mercado Pão de Açúcar? (s/n)\n"
     ]
    },
    {
     "name": "stdin",
     "output_type": "stream",
     "text": [
      " s\n"
     ]
    },
    {
     "name": "stdout",
     "output_type": "stream",
     "text": [
      "Buscando produtos no Pão de Açúcar...\n",
      "Deseja buscar seus itens no mercado Carrefour? (s/n)\n"
     ]
    },
    {
     "name": "stdin",
     "output_type": "stream",
     "text": [
      " s\n"
     ]
    },
    {
     "name": "stdout",
     "output_type": "stream",
     "text": [
      "Buscando produtos no Carrefour...\n",
      "Doritos\n",
      "Iogurte Nestle Grego Natural\n",
      "Macarrao Farfalle\n",
      "Ovos grandes duzia\n",
      "Miojo Galinha Caipira Nissin\n",
      "Digite os índices dos itens que deseja incluir para o produto DORITOS (números separados por vírgula)\n",
      "+----+----------------------------------------------------------------+---------+------------+-------------+---------------+\n",
      "|    | productName                                                    |   price | quantity   | relPrice    | market        |\n",
      "|----+----------------------------------------------------------------+---------+------------+-------------+---------------|\n",
      "|  0 | Salgadinho de Milho Queijo Nacho Elma Chips Doritos Pacote 30g |    2.99 | 30g        | 99.67 R$/kg | Pão de Açúcar |\n",
      "|  1 | Salgadinho Doritos Sabor Queijo Nacho Elma Chips 167g          |   11.89 | 167g       | 71.2 R$/kg  | Carrefour     |\n",
      "|  2 | Salgadinho Doritos Sabor Queijo Nacho Elma Chips 55g           |    4.09 | 55g        | 74.36 R$/kg | Carrefour     |\n",
      "+----+----------------------------------------------------------------+---------+------------+-------------+---------------+\n"
     ]
    },
    {
     "name": "stdin",
     "output_type": "stream",
     "text": [
      " 1,2\n"
     ]
    },
    {
     "name": "stdout",
     "output_type": "stream",
     "text": [
      "Digite os índices dos itens que deseja incluir para o produto IOGURTE NESTLE GREGO NATURAL (números separados por vírgula)\n",
      "+----+-------------------------------------------------------------+---------+------------+-------------+---------------+\n",
      "|    | productName                                                 |   price | quantity   | relPrice    | market        |\n",
      "|----+-------------------------------------------------------------+---------+------------+-------------+---------------|\n",
      "|  0 | Iogurte Integral Grego Abacaxi Nestlé Bandeja 400g          |    6.99 | 400g       | 17.48 R$/kg | Pão de Açúcar |\n",
      "|  1 | Iogurte Grego Flocos Nestlé Pote 90g                        |    2.05 | 90g        | 22.78 R$/kg | Pão de Açúcar |\n",
      "|  2 | Iogurte Grego Sabor Maracujá Light NESTLÉ 360g              |    6.79 | 360g       | 18.86 R$/kg | Pão de Açúcar |\n",
      "|  3 | Iogurte Light Grego 3 Sabores NESTLÉ 540g                   |    9.85 | 540g       | 18.24 R$/kg | Pão de Açúcar |\n",
      "|  4 | Iogurte Grego Light Sabor Morango NESTLÉ 360g               |    6.79 | 360g       | 18.86 R$/kg | Pão de Açúcar |\n",
      "|  5 | Iogurte Grego Sabor Tradicional NESTLÉ 90g                  |    2.05 | 90g        | 22.78 R$/kg | Pão de Açúcar |\n",
      "|  6 | Iogurte Grego Frutas Vermelhas Nestlé Pote 90g              |    2.05 | 90g        | 22.78 R$/kg | Pão de Açúcar |\n",
      "|  7 | Iogurte Integral Grego Frutas Vermelhas Nestlé Bandeja 400g |    6.99 | 400g       | 17.48 R$/kg | Pão de Açúcar |\n",
      "|  8 | Iogurte Grego Sabor Torta de Limão NESTLÉ 90g               |    2.05 | 90g        | 22.78 R$/kg | Pão de Açúcar |\n",
      "|  9 | Iogurte Grego Sabor Flocos VIGOR 100g                       |    2.39 | 100g       | 23.9 R$/kg  | Pão de Açúcar |\n",
      "| 10 | Iogurte Integral Natural Nestlé Pote 170g                   |    2.09 | 170g       | 12.29 R$/kg | Pão de Açúcar |\n",
      "| 11 | Iogurte Desnatado Natural Nestlé Pote 160g                  |    2.09 | 160g       | 13.06 R$/kg | Pão de Açúcar |\n",
      "| 12 | Iogurte Grego Nestlé Frutas Vermelhas 90g                   |    2.05 | 90g        | 22.78 R$/kg | Carrefour     |\n",
      "| 13 | Iogurte Grego Nestlé Tradicional e Morango com 6 Unidades   |    8.6  |            |             | Carrefour     |\n",
      "| 14 | Iogurte Grego Nestlé Frutas Vermelhas 400g                  |    6.65 | 400g       | 16.62 R$/kg | Carrefour     |\n",
      "+----+-------------------------------------------------------------+---------+------------+-------------+---------------+\n"
     ]
    },
    {
     "name": "stdin",
     "output_type": "stream",
     "text": [
      " 0,5,9,10\n"
     ]
    },
    {
     "name": "stdout",
     "output_type": "stream",
     "text": [
      "Digite os índices dos itens que deseja incluir para o produto MACARRAO FARFALLE (números separados por vírgula)\n",
      "+----+------------------------------------------------------------------------------+---------+------------+-------------+---------------+\n",
      "|    | productName                                                                  |   price | quantity   | relPrice    | market        |\n",
      "|----+------------------------------------------------------------------------------+---------+------------+-------------+---------------|\n",
      "|  0 | Macarrão Italiano Farfalle BARILLA 500g                                      |   10.99 | 500g       | 21.98 R$/kg | Pão de Açúcar |\n",
      "|  1 | Macarrão Italiano Farfalle DE CECCO Pacote 500g                              |   12.99 | 500g       | 25.98 R$/kg | Pão de Açúcar |\n",
      "|  2 | Macarrão Francês Farfalles CASINO Pacote 500g                                |    7.49 | 500g       | 14.98 R$/kg | Pão de Açúcar |\n",
      "|  3 | Macarrão Integral Farfalle CASINO Caixa 500g                                 |    7.29 | 500g       | 14.58 R$/kg | Pão de Açúcar |\n",
      "|  4 | Macarrão Italiano Farfalle Tricolor DE CECCO Caixa 500g                      |   11.9  | 500g       | 23.8 R$/kg  | Pão de Açúcar |\n",
      "|  5 | Macarrão de Sêmola Grano Duro Integral Farfalle Renata Superiore Pacote 500g |    6.49 | 500g       | 12.98 R$/kg | Pão de Açúcar |\n",
      "|  6 | Macarrão Farfalle Integral Renata Grano Duro Superiore 500g                  |    6.35 | 500g       | 12.7 R$/kg  | Carrefour     |\n",
      "|  7 | Macarrão Farfalle Renata Grano Duro Superiore 500g                           |    6.49 | 500g       | 12.98 R$/kg | Carrefour     |\n",
      "|  8 | Macarrão Farfalle Giuseppe Cocco Grano Duro 500g                             |   18.69 | 500g       | 37.38 R$/kg | Carrefour     |\n",
      "+----+------------------------------------------------------------------------------+---------+------------+-------------+---------------+\n"
     ]
    },
    {
     "name": "stdin",
     "output_type": "stream",
     "text": [
      " 0,6,8\n"
     ]
    },
    {
     "name": "stdout",
     "output_type": "stream",
     "text": [
      "Digite os índices dos itens que deseja incluir para o produto OVOS GRANDES DUZIA (números separados por vírgula)\n",
      "+----+-----------------------------------------------------------------------+---------+------------+------------+---------------+\n",
      "|    | productName                                                           |   price | quantity   | relPrice   | market        |\n",
      "|----+-----------------------------------------------------------------------+---------+------------+------------+---------------|\n",
      "|  0 | Ovos Branco Grandes Bandeja com 30 Unidades                           |   18.19 |            |            | Pão de Açúcar |\n",
      "|  1 | Ovos Branco Grandes QUALITÁ Bandeja com 12 Unidades                   |    7.9  |            |            | Pão de Açúcar |\n",
      "|  2 | Ovos Branco Grandes QUALITÁ Bandeja com 6 Unidades                    |    4.39 |            |            | Pão de Açúcar |\n",
      "|  3 | Ovos Vermelho Grandes QUALITÁ Bandeja com 12 Unidades                 |   10.79 |            |            | Pão de Açúcar |\n",
      "|  4 | Ovos Vermelho Grandes Orgânicos TAEQ Bandeja com 10 Unidades          |   12    |            |            | Pão de Açúcar |\n",
      "|  5 | Ovos Vermelho Grandes QUALITÁ Bandeja com 10 Unidades                 |   10.59 |            |            | Pão de Açúcar |\n",
      "|  6 | Ovos Vermelho Grandes QUALITÁ Bandeja com 6 Unidades                  |    5.99 |            |            | Pão de Açúcar |\n",
      "|  7 | Ovos Branco Grandes Livres de Gaiolas Bandeja QUALITÁ com 10 Unidades |    9.9  |            |            | Pão de Açúcar |\n",
      "|  8 | Ovos Brancos Grande Qualitá Bandeja 10 Unidades                       |   10.59 |            |            | Pão de Açúcar |\n",
      "|  9 | Bombom LACTA Grandes Sucessos Caixa 250,6g                            |    6.99 | 250,6g     | 2.79 R$/kg | Pão de Açúcar |\n",
      "| 10 | Ovos Brancos Tipo Grande Qualitá Bandeja com 20 Unidades              |   16.39 |            |            | Pão de Açúcar |\n",
      "| 11 | PURINA® DOG CHOW® Biscoitos sabor Frango Adultos Médios e Grandes     |   16.99 |            |            | Pão de Açúcar |\n",
      "| 12 | Ovos Brancos Grandes Carrefour 30 Unidades                            |   15.05 |            |            | Carrefour     |\n",
      "| 13 | Ovos Vermelhos Grande Carrefour com 12 Unidades                       |    7.39 |            |            | Carrefour     |\n",
      "| 14 | Ovos Brancos Grande Carrefour com 6 Unidades                          |    3.09 |            |            | Carrefour     |\n",
      "| 15 | Cesta Básica Grande com 22 Itens                                      |  100.4  |            |            | Carrefour     |\n",
      "+----+-----------------------------------------------------------------------+---------+------------+------------+---------------+\n"
     ]
    },
    {
     "name": "stdin",
     "output_type": "stream",
     "text": [
      " 0,11\n"
     ]
    },
    {
     "name": "stdout",
     "output_type": "stream",
     "text": [
      "Digite os índices dos itens que deseja incluir para o produto MIOJO GALINHA CAIPIRA NISSIN (números separados por vírgula)\n",
      "+----+------------------------------------------------------------------------------------------------------------------------------+---------+------------+-------------+---------------+\n",
      "|    | productName                                                                                                                  |   price | quantity   | relPrice    | market        |\n",
      "|----+------------------------------------------------------------------------------------------------------------------------------+---------+------------+-------------+---------------|\n",
      "|  0 | Macarrão Instantâneo de Galinha Caipira Nissin Miojo Lámen Pacote 85g                                                        |    1.59 | 85g        | 18.71 R$/kg | Pão de Açúcar |\n",
      "|  1 | Macarrão Instantâneo de Galinha Caipira NISSIN LÁMEN Pacote 510g  5 Sabores Galinha Caipira + 1 sabor Galinha Caipira Grátis |    7.95 | 510g       | 15.59 R$/kg | Pão de Açúcar |\n",
      "|  2 | Macarrão Instantâneo Nissin Lámen Sabor Galinha Caipira 510g - Embalgem Promocional                                          |    7.89 | 510g       | 15.47 R$/kg | Carrefour     |\n",
      "|  3 | Macarrão Instantâneo Nissin Sabor Galinha Caipira 85g                                                                        |    1.6  | 85g        | 18.82 R$/kg | Carrefour     |\n",
      "|  4 | Macarrão Instantâneo Nissin Sabor Galinha Caipira 74g                                                                        |    1.89 | 74g        | 25.54 R$/kg | Carrefour     |\n",
      "+----+------------------------------------------------------------------------------------------------------------------------------+---------+------------+-------------+---------------+\n"
     ]
    },
    {
     "name": "stdin",
     "output_type": "stream",
     "text": [
      " 0,5,6\n"
     ]
    },
    {
     "name": "stdout",
     "output_type": "stream",
     "text": [
      "Por favor, insira itens válidos de acordo com a tabela acima.\n"
     ]
    },
    {
     "name": "stdin",
     "output_type": "stream",
     "text": [
      " 0,4\n"
     ]
    },
    {
     "name": "stdout",
     "output_type": "stream",
     "text": [
      "Quantos de Salgadinho Doritos Sabor Queijo Nacho Elma Chips 167g (R$ 11,89) você deseja comprar?\n"
     ]
    },
    {
     "name": "stdin",
     "output_type": "stream",
     "text": [
      " 12\n"
     ]
    },
    {
     "name": "stdout",
     "output_type": "stream",
     "text": [
      "Quantos de Salgadinho Doritos Sabor Queijo Nacho Elma Chips 55g (R$ 4,09) você deseja comprar?\n"
     ]
    },
    {
     "name": "stdin",
     "output_type": "stream",
     "text": [
      " 10\n"
     ]
    },
    {
     "name": "stdout",
     "output_type": "stream",
     "text": [
      "Quantos de Iogurte Integral Grego Abacaxi Nestlé Bandeja 400g (R$ 6,99) você deseja comprar?\n"
     ]
    },
    {
     "name": "stdin",
     "output_type": "stream",
     "text": [
      " 13\n"
     ]
    },
    {
     "name": "stdout",
     "output_type": "stream",
     "text": [
      "Quantos de Iogurte Grego Sabor Tradicional NESTLÉ 90g (R$ 2,05) você deseja comprar?\n"
     ]
    },
    {
     "name": "stdin",
     "output_type": "stream",
     "text": [
      " 5\n"
     ]
    },
    {
     "name": "stdout",
     "output_type": "stream",
     "text": [
      "Quantos de Iogurte Grego Sabor Flocos VIGOR 100g (R$ 2,39) você deseja comprar?\n"
     ]
    },
    {
     "name": "stdin",
     "output_type": "stream",
     "text": [
      " 4\n"
     ]
    },
    {
     "name": "stdout",
     "output_type": "stream",
     "text": [
      "Quantos de Iogurte Integral Natural Nestlé Pote 170g (R$ 2,09) você deseja comprar?\n"
     ]
    },
    {
     "name": "stdin",
     "output_type": "stream",
     "text": [
      " 8\n"
     ]
    },
    {
     "name": "stdout",
     "output_type": "stream",
     "text": [
      "Quantos de Macarrão Italiano Farfalle BARILLA 500g (R$ 10,99) você deseja comprar?\n"
     ]
    },
    {
     "name": "stdin",
     "output_type": "stream",
     "text": [
      " 1\n"
     ]
    },
    {
     "name": "stdout",
     "output_type": "stream",
     "text": [
      "Quantos de Macarrão Farfalle Integral Renata Grano Duro Superiore 500g (R$ 6,35) você deseja comprar?\n"
     ]
    },
    {
     "name": "stdin",
     "output_type": "stream",
     "text": [
      " 2\n"
     ]
    },
    {
     "name": "stdout",
     "output_type": "stream",
     "text": [
      "Quantos de Macarrão Farfalle Giuseppe Cocco Grano Duro 500g (R$ 18,69) você deseja comprar?\n"
     ]
    },
    {
     "name": "stdin",
     "output_type": "stream",
     "text": [
      " \n"
     ]
    },
    {
     "name": "stdout",
     "output_type": "stream",
     "text": [
      "Por favor insira um número válido!\n"
     ]
    },
    {
     "name": "stdin",
     "output_type": "stream",
     "text": [
      " 5\n"
     ]
    },
    {
     "name": "stdout",
     "output_type": "stream",
     "text": [
      "Quantos de Ovos Branco Grandes Bandeja com 30 Unidades (R$ 18,19) você deseja comprar?\n"
     ]
    },
    {
     "name": "stdin",
     "output_type": "stream",
     "text": [
      " 6\n"
     ]
    },
    {
     "name": "stdout",
     "output_type": "stream",
     "text": [
      "Quantos de PURINA® DOG CHOW® Biscoitos sabor Frango Adultos Médios e Grandes (R$ 16,99) você deseja comprar?\n"
     ]
    },
    {
     "name": "stdin",
     "output_type": "stream",
     "text": [
      " 9\n"
     ]
    },
    {
     "name": "stdout",
     "output_type": "stream",
     "text": [
      "Quantos de Macarrão Instantâneo de Galinha Caipira Nissin Miojo Lámen Pacote 85g (R$ 1,59) você deseja comprar?\n"
     ]
    },
    {
     "name": "stdin",
     "output_type": "stream",
     "text": [
      " 10\n"
     ]
    },
    {
     "name": "stdout",
     "output_type": "stream",
     "text": [
      "Quantos de Macarrão Instantâneo Nissin Sabor Galinha Caipira 74g (R$ 1,89) você deseja comprar?\n"
     ]
    },
    {
     "name": "stdin",
     "output_type": "stream",
     "text": [
      " 10\n"
     ]
    },
    {
     "data": {
      "text/html": [
       "<div>\n",
       "<style scoped>\n",
       "    .dataframe tbody tr th:only-of-type {\n",
       "        vertical-align: middle;\n",
       "    }\n",
       "\n",
       "    .dataframe tbody tr th {\n",
       "        vertical-align: top;\n",
       "    }\n",
       "\n",
       "    .dataframe thead th {\n",
       "        text-align: right;\n",
       "    }\n",
       "</style>\n",
       "<table border=\"1\" class=\"dataframe\">\n",
       "  <thead>\n",
       "    <tr style=\"text-align: right;\">\n",
       "      <th></th>\n",
       "      <th>market</th>\n",
       "      <th>productName</th>\n",
       "      <th>quantity</th>\n",
       "      <th>price</th>\n",
       "      <th>amount</th>\n",
       "      <th>totalPrice</th>\n",
       "    </tr>\n",
       "  </thead>\n",
       "  <tbody>\n",
       "    <tr>\n",
       "      <th>0</th>\n",
       "      <td>Carrefour</td>\n",
       "      <td>Salgadinho Doritos Sabor Queijo Nacho Elma Chi...</td>\n",
       "      <td>167g</td>\n",
       "      <td>11.89</td>\n",
       "      <td>12</td>\n",
       "      <td>142.68</td>\n",
       "    </tr>\n",
       "    <tr>\n",
       "      <th>1</th>\n",
       "      <td>Carrefour</td>\n",
       "      <td>Salgadinho Doritos Sabor Queijo Nacho Elma Chi...</td>\n",
       "      <td>55g</td>\n",
       "      <td>4.09</td>\n",
       "      <td>10</td>\n",
       "      <td>40.90</td>\n",
       "    </tr>\n",
       "    <tr>\n",
       "      <th>2</th>\n",
       "      <td>Pão de Açúcar</td>\n",
       "      <td>Iogurte Integral Grego Abacaxi Nestlé Bandeja ...</td>\n",
       "      <td>400g</td>\n",
       "      <td>6.99</td>\n",
       "      <td>13</td>\n",
       "      <td>90.87</td>\n",
       "    </tr>\n",
       "    <tr>\n",
       "      <th>3</th>\n",
       "      <td>Pão de Açúcar</td>\n",
       "      <td>Iogurte Grego Sabor Tradicional NESTLÉ 90g</td>\n",
       "      <td>90g</td>\n",
       "      <td>2.05</td>\n",
       "      <td>5</td>\n",
       "      <td>10.25</td>\n",
       "    </tr>\n",
       "    <tr>\n",
       "      <th>4</th>\n",
       "      <td>Pão de Açúcar</td>\n",
       "      <td>Iogurte Grego Sabor Flocos VIGOR 100g</td>\n",
       "      <td>100g</td>\n",
       "      <td>2.39</td>\n",
       "      <td>4</td>\n",
       "      <td>9.56</td>\n",
       "    </tr>\n",
       "    <tr>\n",
       "      <th>5</th>\n",
       "      <td>Pão de Açúcar</td>\n",
       "      <td>Iogurte Integral Natural Nestlé Pote 170g</td>\n",
       "      <td>170g</td>\n",
       "      <td>2.09</td>\n",
       "      <td>8</td>\n",
       "      <td>16.72</td>\n",
       "    </tr>\n",
       "    <tr>\n",
       "      <th>6</th>\n",
       "      <td>Pão de Açúcar</td>\n",
       "      <td>Macarrão Italiano Farfalle BARILLA 500g</td>\n",
       "      <td>500g</td>\n",
       "      <td>10.99</td>\n",
       "      <td>1</td>\n",
       "      <td>10.99</td>\n",
       "    </tr>\n",
       "    <tr>\n",
       "      <th>7</th>\n",
       "      <td>Carrefour</td>\n",
       "      <td>Macarrão Farfalle Integral Renata Grano Duro S...</td>\n",
       "      <td>500g</td>\n",
       "      <td>6.35</td>\n",
       "      <td>2</td>\n",
       "      <td>12.70</td>\n",
       "    </tr>\n",
       "    <tr>\n",
       "      <th>8</th>\n",
       "      <td>Carrefour</td>\n",
       "      <td>Macarrão Farfalle Giuseppe Cocco Grano Duro 500g</td>\n",
       "      <td>500g</td>\n",
       "      <td>18.69</td>\n",
       "      <td>5</td>\n",
       "      <td>93.45</td>\n",
       "    </tr>\n",
       "    <tr>\n",
       "      <th>9</th>\n",
       "      <td>Pão de Açúcar</td>\n",
       "      <td>Ovos Branco Grandes Bandeja com 30 Unidades</td>\n",
       "      <td></td>\n",
       "      <td>18.19</td>\n",
       "      <td>6</td>\n",
       "      <td>109.14</td>\n",
       "    </tr>\n",
       "    <tr>\n",
       "      <th>10</th>\n",
       "      <td>Pão de Açúcar</td>\n",
       "      <td>PURINA® DOG CHOW® Biscoitos sabor Frango Adult...</td>\n",
       "      <td></td>\n",
       "      <td>16.99</td>\n",
       "      <td>9</td>\n",
       "      <td>152.91</td>\n",
       "    </tr>\n",
       "    <tr>\n",
       "      <th>11</th>\n",
       "      <td>Pão de Açúcar</td>\n",
       "      <td>Macarrão Instantâneo de Galinha Caipira Nissin...</td>\n",
       "      <td>85g</td>\n",
       "      <td>1.59</td>\n",
       "      <td>10</td>\n",
       "      <td>15.90</td>\n",
       "    </tr>\n",
       "    <tr>\n",
       "      <th>12</th>\n",
       "      <td>Carrefour</td>\n",
       "      <td>Macarrão Instantâneo Nissin Sabor Galinha Caip...</td>\n",
       "      <td>74g</td>\n",
       "      <td>1.89</td>\n",
       "      <td>10</td>\n",
       "      <td>18.90</td>\n",
       "    </tr>\n",
       "    <tr>\n",
       "      <th>SubTotal Pão de Açúcar</th>\n",
       "      <td>Pão de Açúcar</td>\n",
       "      <td></td>\n",
       "      <td></td>\n",
       "      <td></td>\n",
       "      <td></td>\n",
       "      <td>416.34</td>\n",
       "    </tr>\n",
       "    <tr>\n",
       "      <th>SubTotal Carrefour</th>\n",
       "      <td>Carrefour</td>\n",
       "      <td></td>\n",
       "      <td></td>\n",
       "      <td></td>\n",
       "      <td></td>\n",
       "      <td>308.63</td>\n",
       "    </tr>\n",
       "    <tr>\n",
       "      <th>Total</th>\n",
       "      <td></td>\n",
       "      <td></td>\n",
       "      <td></td>\n",
       "      <td></td>\n",
       "      <td></td>\n",
       "      <td>724.97</td>\n",
       "    </tr>\n",
       "  </tbody>\n",
       "</table>\n",
       "</div>"
      ],
      "text/plain": [
       "                               market  \\\n",
       "0                           Carrefour   \n",
       "1                           Carrefour   \n",
       "2                       Pão de Açúcar   \n",
       "3                       Pão de Açúcar   \n",
       "4                       Pão de Açúcar   \n",
       "5                       Pão de Açúcar   \n",
       "6                       Pão de Açúcar   \n",
       "7                           Carrefour   \n",
       "8                           Carrefour   \n",
       "9                       Pão de Açúcar   \n",
       "10                      Pão de Açúcar   \n",
       "11                      Pão de Açúcar   \n",
       "12                          Carrefour   \n",
       "SubTotal Pão de Açúcar  Pão de Açúcar   \n",
       "SubTotal Carrefour          Carrefour   \n",
       "Total                                   \n",
       "\n",
       "                                                              productName  \\\n",
       "0                       Salgadinho Doritos Sabor Queijo Nacho Elma Chi...   \n",
       "1                       Salgadinho Doritos Sabor Queijo Nacho Elma Chi...   \n",
       "2                       Iogurte Integral Grego Abacaxi Nestlé Bandeja ...   \n",
       "3                              Iogurte Grego Sabor Tradicional NESTLÉ 90g   \n",
       "4                                   Iogurte Grego Sabor Flocos VIGOR 100g   \n",
       "5                               Iogurte Integral Natural Nestlé Pote 170g   \n",
       "6                                 Macarrão Italiano Farfalle BARILLA 500g   \n",
       "7                       Macarrão Farfalle Integral Renata Grano Duro S...   \n",
       "8                        Macarrão Farfalle Giuseppe Cocco Grano Duro 500g   \n",
       "9                             Ovos Branco Grandes Bandeja com 30 Unidades   \n",
       "10                      PURINA® DOG CHOW® Biscoitos sabor Frango Adult...   \n",
       "11                      Macarrão Instantâneo de Galinha Caipira Nissin...   \n",
       "12                      Macarrão Instantâneo Nissin Sabor Galinha Caip...   \n",
       "SubTotal Pão de Açúcar                                                      \n",
       "SubTotal Carrefour                                                          \n",
       "Total                                                                       \n",
       "\n",
       "                       quantity  price amount  totalPrice  \n",
       "0                          167g  11.89     12      142.68  \n",
       "1                           55g   4.09     10       40.90  \n",
       "2                          400g   6.99     13       90.87  \n",
       "3                           90g   2.05      5       10.25  \n",
       "4                          100g   2.39      4        9.56  \n",
       "5                          170g   2.09      8       16.72  \n",
       "6                          500g  10.99      1       10.99  \n",
       "7                          500g   6.35      2       12.70  \n",
       "8                          500g  18.69      5       93.45  \n",
       "9                                18.19      6      109.14  \n",
       "10                               16.99      9      152.91  \n",
       "11                          85g   1.59     10       15.90  \n",
       "12                          74g   1.89     10       18.90  \n",
       "SubTotal Pão de Açúcar                             416.34  \n",
       "SubTotal Carrefour                                 308.63  \n",
       "Total                                              724.97  "
      ]
     },
     "execution_count": 3,
     "metadata": {},
     "output_type": "execute_result"
    }
   ],
   "source": [
    "compras = bb.shop(products)\n",
    "compras"
   ]
  },
  {
   "cell_type": "code",
   "execution_count": null,
   "metadata": {},
   "outputs": [],
   "source": []
  }
 ],
 "metadata": {
  "kernelspec": {
   "display_name": "Python 3",
   "language": "python",
   "name": "python3"
  },
  "language_info": {
   "codemirror_mode": {
    "name": "ipython",
    "version": 3
   },
   "file_extension": ".py",
   "mimetype": "text/x-python",
   "name": "python",
   "nbconvert_exporter": "python",
   "pygments_lexer": "ipython3",
   "version": "3.8.3"
  }
 },
 "nbformat": 4,
 "nbformat_minor": 4
}
