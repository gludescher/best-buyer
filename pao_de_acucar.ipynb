{
 "cells": [
  {
   "cell_type": "code",
   "execution_count": 1,
   "metadata": {},
   "outputs": [],
   "source": [
    "import pandas as pd\n",
    "pd.options.mode.chained_assignment = None\n",
    "import requests\n",
    "import re\n",
    "from bs4 import BeautifulSoup\n",
    "import json"
   ]
  },
  {
   "cell_type": "code",
   "execution_count": 2,
   "metadata": {},
   "outputs": [],
   "source": [
    "def findQuantity(text):\n",
    "    unit=\"(g|kg|l|ml| litro)\"\n",
    "    x = re.search(\"[0-9,]+\"+unit, text, re.IGNORECASE)\n",
    "\n",
    "    return x.group()"
   ]
  },
  {
   "cell_type": "code",
   "execution_count": 3,
   "metadata": {},
   "outputs": [],
   "source": [
    "def findRelPrice(price, quantity):\n",
    "    qt = int(''.join(filter(str.isdigit, quantity)))\n",
    "    unit = ''.join(filter(str.isalpha, quantity))\n",
    "\n",
    "    relPrice = float(price)/qt\n",
    "\n",
    "    if unit == 'g' or unit == 'ml':\n",
    "        relPrice*=1000\n",
    "    \n",
    "    return str(round(relPrice, 2)) +  ' R$/' + (\"kg\" if unit == 'g' else 'L')"
   ]
  },
  {
   "cell_type": "code",
   "execution_count": 4,
   "metadata": {},
   "outputs": [],
   "source": [
    "baseURL = \"https://paodeacucar.resultspage.com/search?p=Q&ts=json-full&lot=json&w={}&cnt=12&ref=www.paodeacucar.com&ua=Mozilla%2F5.0%20(Windows%20NT%2010.0%3B%20Win64%3B%20x64)%20AppleWebKit%2F537.36%20(KHTML%2C%20like%20Gecko)%20Chrome%2F81.0.4044.138%20Safari%2F537.36&ep.selected_store=501\""
   ]
  },
  {
   "cell_type": "code",
   "execution_count": 5,
   "metadata": {},
   "outputs": [],
   "source": [
    "def fetchItems(products):\n",
    "    results = pd.DataFrame(columns=['searchKey', 'productName', 'price', 'quantity', 'relPrice'])\n",
    "\n",
    "    for key in products:\n",
    "        url = baseURL.format(key.lower().replace(' ', '+'))\n",
    "        html = requests.get(url).text\n",
    "        soup = BeautifulSoup(html, \"html.parser\")\n",
    "        items = json.loads(str(soup))['results']\n",
    "        for i, item in enumerate(items):\n",
    "            qt = findQuantity(item['title'])\n",
    "            price = float(item['price'].replace(',','.'))\n",
    "            if int(item['instock']) > 0:\n",
    "                results.loc[key.lower().replace(' ', '_') + '_' + str(i)] = [key, item['title'], price, qt, findRelPrice(price, qt)]\n",
    "\n",
    "    return results"
   ]
  },
  {
   "cell_type": "code",
   "execution_count": 6,
   "metadata": {},
   "outputs": [],
   "source": [
    "def getSuggested(results):\n",
    "    suggested = results.drop_duplicates(subset=['searchKey'], keep='first')\n",
    "    return suggested"
   ]
  },
  {
   "cell_type": "code",
   "execution_count": 7,
   "metadata": {},
   "outputs": [],
   "source": [
    "def getMinPrice(results):\n",
    "    min_price = results.groupby('searchKey').min()\n",
    "    return min_price"
   ]
  },
  {
   "cell_type": "code",
   "execution_count": 8,
   "metadata": {},
   "outputs": [],
   "source": [
    "def calculatePrices(chosen):\n",
    "    chosen['amount'] = 0\n",
    "    print(\"Quantos de cada um dos itens abaixo você deseja comprar?\")\n",
    "    for i,item in chosen.iterrows(): \n",
    "        print(item['productName'] + \" (R$ \" + str(item['price']) + \")\")\n",
    "        chosen.loc[i,'amount'] = int(input())\n",
    "\n",
    "    chosen['totalPrice'] = chosen.amount*chosen.price\n",
    "    return chosen"
   ]
  }
 ],
 "metadata": {
  "kernelspec": {
   "display_name": "Python 3",
   "language": "python",
   "name": "python3"
  },
  "language_info": {
   "codemirror_mode": {
    "name": "ipython",
    "version": 3
   },
   "file_extension": ".py",
   "mimetype": "text/x-python",
   "name": "python",
   "nbconvert_exporter": "python",
   "pygments_lexer": "ipython3",
   "version": "3.8.3"
  }
 },
 "nbformat": 4,
 "nbformat_minor": 4
}
